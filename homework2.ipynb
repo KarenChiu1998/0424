{
 "cells": [
  {
   "cell_type": "code",
   "execution_count": 1,
   "metadata": {},
   "outputs": [
    {
     "name": "stdout",
     "output_type": "stream",
     "text": [
      "請猜一個數字（輸入q退出）： 1\n",
      "猜錯了！\n",
      "請猜一個數字（輸入q退出）： 5\n",
      "猜錯了！\n",
      "請猜一個數字（輸入q退出）： 8\n",
      "答對了！\n"
     ]
    }
   ],
   "source": [
    "while True:\n",
    "    guess = input(\"請猜一個數字（輸入q退出）： \")\n",
    "    if guess == \"8\":\n",
    "        print(\"答對了！\")\n",
    "        break\n",
    "    elif guess == \"q\":\n",
    "        break\n",
    "    else:\n",
    "        print(\"猜錯了！\")"
   ]
  },
  {
   "cell_type": "code",
   "execution_count": 2,
   "metadata": {},
   "outputs": [
    {
     "name": "stdout",
     "output_type": "stream",
     "text": [
      "請猜一個數字（輸入q退出）： 3\n",
      "猜錯了！\n",
      "請猜一個數字（輸入q退出）： q\n"
     ]
    }
   ],
   "source": [
    "while True:\n",
    "    guess = input(\"請猜一個數字（輸入q退出）： \")\n",
    "    if guess == \"8\":\n",
    "        print(\"答對了！\")\n",
    "        break\n",
    "    elif guess == \"q\":\n",
    "        break\n",
    "    else:\n",
    "        print(\"猜錯了！\")"
   ]
  },
  {
   "cell_type": "code",
   "execution_count": null,
   "metadata": {},
   "outputs": [],
   "source": []
  }
 ],
 "metadata": {
  "kernelspec": {
   "display_name": "Python 3",
   "language": "python",
   "name": "python3"
  },
  "language_info": {
   "codemirror_mode": {
    "name": "ipython",
    "version": 3
   },
   "file_extension": ".py",
   "mimetype": "text/x-python",
   "name": "python",
   "nbconvert_exporter": "python",
   "pygments_lexer": "ipython3",
   "version": "3.6.4"
  }
 },
 "nbformat": 4,
 "nbformat_minor": 2
}
