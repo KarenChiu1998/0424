{
 "cells": [
  {
   "cell_type": "code",
   "execution_count": 2,
   "metadata": {},
   "outputs": [
    {
     "name": "stdout",
     "output_type": "stream",
     "text": [
      "請輸入成績：50\n",
      "不及格\n"
     ]
    }
   ],
   "source": [
    "grade = eval(input(\"請輸入成績：\"))\n",
    "if grade >= 0 and grade < 60:\n",
    "    print(\"不及格\")\n",
    "elif grade >= 60 and grade < 80:\n",
    "    print(\"及格\")\n",
    "elif grade >= 80 and grade < 100:\n",
    "    print(\"優秀\")\n",
    "else:\n",
    "    print(\"未知\")"
   ]
  },
  {
   "cell_type": "code",
   "execution_count": 3,
   "metadata": {},
   "outputs": [
    {
     "name": "stdout",
     "output_type": "stream",
     "text": [
      "請輸入成績：70\n",
      "及格\n"
     ]
    }
   ],
   "source": [
    "grade = eval(input(\"請輸入成績：\"))\n",
    "if grade >= 0 and grade < 60:\n",
    "    print(\"不及格\")\n",
    "elif grade >= 60 and grade < 80:\n",
    "    print(\"及格\")\n",
    "elif grade >= 80 and grade < 100:\n",
    "    print(\"優秀\")\n",
    "else:\n",
    "    print(\"未知\")"
   ]
  },
  {
   "cell_type": "code",
   "execution_count": 4,
   "metadata": {},
   "outputs": [
    {
     "name": "stdout",
     "output_type": "stream",
     "text": [
      "請輸入成績：90\n",
      "優秀\n"
     ]
    }
   ],
   "source": [
    "grade = eval(input(\"請輸入成績：\"))\n",
    "if grade >= 0 and grade < 60:\n",
    "    print(\"不及格\")\n",
    "elif grade >= 60 and grade < 80:\n",
    "    print(\"及格\")\n",
    "elif grade >= 80 and grade < 100:\n",
    "    print(\"優秀\")\n",
    "else:\n",
    "    print(\"未知\")"
   ]
  },
  {
   "cell_type": "code",
   "execution_count": 26,
   "metadata": {},
   "outputs": [
    {
     "name": "stdout",
     "output_type": "stream",
     "text": [
      "請輸入成績：abc\n",
      "未知\n"
     ]
    }
   ],
   "source": [
    "ip = input(\"請輸入成績：\")\n",
    "if type(ip) == str:\n",
    "    print(\"未知\")\n",
    "else:\n",
    "    grade = int(ip)\n",
    "    if grade >= 0 and grade < 60:\n",
    "        print(\"不及格\")\n",
    "    elif grade >= 60 and grade < 80:\n",
    "        print(\"及格\")\n",
    "    elif grade >= 80 and grade < 100:\n",
    "        print(\"優秀\")"
   ]
  },
  {
   "cell_type": "code",
   "execution_count": null,
   "metadata": {},
   "outputs": [],
   "source": []
  }
 ],
 "metadata": {
  "kernelspec": {
   "display_name": "Python 3",
   "language": "python",
   "name": "python3"
  },
  "language_info": {
   "codemirror_mode": {
    "name": "ipython",
    "version": 3
   },
   "file_extension": ".py",
   "mimetype": "text/x-python",
   "name": "python",
   "nbconvert_exporter": "python",
   "pygments_lexer": "ipython3",
   "version": "3.6.4"
  }
 },
 "nbformat": 4,
 "nbformat_minor": 2
}
